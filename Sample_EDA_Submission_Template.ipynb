{
  "nbformat": 4,
  "nbformat_minor": 0,
  "metadata": {
    "colab": {
      "private_outputs": true,
      "provenance": [],
      "collapsed_sections": [
        "vncDsAP0Gaoa",
        "FJNUwmbgGyua",
        "w6K7xa23Elo4",
        "yQaldy8SH6Dl",
        "PH-0ReGfmX4f",
        "mDgbUHAGgjLW",
        "O_i_v8NEhb9l",
        "HhfV-JJviCcP",
        "Y3lxredqlCYt",
        "3RnN4peoiCZX",
        "x71ZqKXriCWQ",
        "7hBIi_osiCS2",
        "JlHwYmJAmNHm",
        "35m5QtbWiB9F",
        "PoPl-ycgm1ru",
        "H0kj-8xxnORC",
        "nA9Y7ga8ng1Z",
        "PBTbrJXOngz2",
        "u3PMJOP6ngxN",
        "dauF4eBmngu3",
        "bKJF3rekwFvQ",
        "MSa1f5Uengrz",
        "GF8Ens_Soomf",
        "0wOQAZs5pc--",
        "K5QZ13OEpz2H",
        "lQ7QKXXCp7Bj",
        "448CDAPjqfQr",
        "KSlN3yHqYklG",
        "t6dVpIINYklI",
        "ijmpgYnKYklI",
        "-JiQyfWJYklI",
        "EM7whBJCYoAo",
        "fge-S5ZAYoAp",
        "85gYPyotYoAp",
        "RoGjAbkUYoAp",
        "4Of9eVA-YrdM",
        "iky9q4vBYrdO",
        "F6T5p64dYrdO",
        "y-Ehk30pYrdP",
        "bamQiAODYuh1",
        "QHF8YVU7Yuh3",
        "GwzvFGzlYuh3",
        "qYpmQ266Yuh3",
        "OH-pJp9IphqM",
        "bbFf2-_FphqN",
        "_ouA3fa0phqN",
        "Seke61FWphqN",
        "PIIx-8_IphqN",
        "t27r6nlMphqO",
        "r2jJGEOYphqO",
        "b0JNsNcRphqO",
        "BZR9WyysphqO",
        "jj7wYXLtphqO",
        "eZrbJ2SmphqO",
        "rFu4xreNphqO",
        "YJ55k-q6phqO",
        "gCFgpxoyphqP",
        "OVtJsKN_phqQ",
        "lssrdh5qphqQ",
        "U2RJ9gkRphqQ",
        "1M8mcRywphqQ",
        "tgIPom80phqQ",
        "JMzcOPDDphqR",
        "x-EpHcCOp1ci",
        "X_VqEhTip1ck",
        "8zGJKyg5p1ck",
        "PVzmfK_Ep1ck",
        "n3dbpmDWp1ck",
        "ylSl6qgtp1ck",
        "ZWILFDl5p1ck",
        "M7G43BXep1ck",
        "Ag9LCva-p1cl",
        "E6MkPsBcp1cl",
        "2cELzS2fp1cl",
        "3MPXvC8up1cl",
        "NC_X3p0fY2L0",
        "UV0SzAkaZNRQ",
        "YPEH6qLeZNRQ",
        "q29F0dvdveiT",
        "EXh0U9oCveiU",
        "22aHeOlLveiV",
        "JcMwzZxoAimU",
        "8G2x9gOozGDZ",
        "gCX9965dhzqZ",
        "gIfDvo9L0UH2"
      ],
      "include_colab_link": true
    },
    "kernelspec": {
      "name": "python3",
      "display_name": "Python 3"
    },
    "language_info": {
      "name": "python"
    }
  },
  "cells": [
    {
      "cell_type": "markdown",
      "metadata": {
        "id": "view-in-github",
        "colab_type": "text"
      },
      "source": [
        "<a href=\"https://colab.research.google.com/github/anujkumar163/Telecom_churn.csv_DS/blob/master/Sample_EDA_Submission_Template.ipynb\" target=\"_parent\"><img src=\"https://colab.research.google.com/assets/colab-badge.svg\" alt=\"Open In Colab\"/></a>"
      ]
    },
    {
      "cell_type": "markdown",
      "source": [
        "# **Project Name**    - \n",
        "\n"
      ],
      "metadata": {
        "id": "vncDsAP0Gaoa"
      }
    },
    {
      "cell_type": "markdown",
      "source": [
        "##### **Project Type**    - Telecom Churn Prediction\n",
        "##### **Contribution**    - Individual/Team\n",
        "##### **Team Member 1 -**   Twinkal patel\n",
        "##### **Team Member 2 -**   Vamish Krishna\n",
        "##### **Team Member 3 -**   Subhanghi khairwal\n",
        "##### **Team Member 4 -**   Sumit  "
      ],
      "metadata": {
        "id": "beRrZCGUAJYm"
      }
    },
    {
      "cell_type": "markdown",
      "source": [
        "# **Project Summary -**"
      ],
      "metadata": {
        "id": "FJNUwmbgGyua"
      }
    },
    {
      "cell_type": "markdown",
      "source": [
        "The provided dataset, named \"telecom_churn.csv\", contains information on customer churn for a telecommunications company. It has a total of 3333 entries and 20 columns.\n",
        "\n",
        "The columns include information such as the customer's state, account length, area code, whether they have an international plan or voicemail plan, the number of voicemail messages, and the total amount of minutes and charges for day, evening, and night calls. Additionally, the dataset includes the total number of international calls and charges, the number of customer service calls made, and a boolean value indicating whether the customer has churned or not.\n",
        "\n",
        "The dataset has a mix of datatypes, including object, int64, float64, and bool. There are no missing values in any of the columns, and the memory usage for the dataset is 498.1+ KB.\n",
        "\n",
        "The project explored a telecom company's customer data to identify factors that contribute to customer churn. The analysis involved visualizations such as bar charts, correlation heatmaps, and pair plots to identify patterns and relationships between variables. The findings suggest that factors such as customer satisfaction, network coverage, call quality, pricing plans, and customer service calls are important predictors of churn. The analysis also revealed that longer account lengths do not necessarily mean lower churn rates, and the area code might not be a significant factor affecting customer churn. Finally, the analysis identified interesting correlations between variables, such as the strong positive correlation between total day minutes and total day charge, and the negative correlation between customer service calls and account length. Overall, the analysis provides valuable insights for the telecom company to improve customer satisfaction and reduce customer churn."
      ],
      "metadata": {
        "id": "F6v_1wHtG2nS"
      }
    },
    {
      "cell_type": "markdown",
      "source": [
        "# **GitHub Link -**"
      ],
      "metadata": {
        "id": "w6K7xa23Elo4"
      }
    },
    {
      "cell_type": "markdown",
      "source": [
        "https://github.com/anujkumar163/Telecom_churn.csv_DS.git"
      ],
      "metadata": {
        "id": "h1o69JH3Eqqn"
      }
    },
    {
      "cell_type": "markdown",
      "source": [
        "# **Problem Statement**\n"
      ],
      "metadata": {
        "id": "yQaldy8SH6Dl"
      }
    },
    {
      "cell_type": "markdown",
      "source": [
        "**Write Problem Statement Here.**\n",
        "\n",
        "Customer churn prediction is a crucial aspect of any business as it helps identify customers who are likely to stop using the company's services. The telecommunications industry is particularly vulnerable to customer churn, with an average annual rate of 20-30%. In a highly competitive market where customers have the option to choose from multiple service providers, retaining existing customers is more cost-effective than acquiring new ones, which can cost more.\n",
        "\n",
        "For telecom companies, retaining high-profit customers is a top priority, and predicting which customers are at high risk of churn is crucial. To reduce customer churn, telecom firms must examine customer-level data and conduct exploratory data analysis to identify the primary indicators for why customers leave the company."
      ],
      "metadata": {
        "id": "DpeJGUA3kjGy"
      }
    },
    {
      "cell_type": "markdown",
      "source": [
        "#### **Define Your Business Objective?**"
      ],
      "metadata": {
        "id": "PH-0ReGfmX4f"
      }
    },
    {
      "cell_type": "markdown",
      "source": [
        "Business objective is to analyze the customer-level data to identify the key factors that contribute to customer churn in the telecommunications industry. This could involve conducting exploratory data analysis, developing predictive models to forecast customer churn, and identifying strategies to improve customer retention. By achieving this objective, a telecom company could potentially reduce churn rates, increase customer satisfaction and loyalty, and improve its overall profitability."
      ],
      "metadata": {
        "id": "PhDvGCAqmjP1"
      }
    },
    {
      "cell_type": "markdown",
      "source": [
        "# **General Guidelines** : -  "
      ],
      "metadata": {
        "id": "mDgbUHAGgjLW"
      }
    },
    {
      "cell_type": "markdown",
      "source": [
        "1.   Well-structured, formatted, and commented code is required. \n",
        "2.   Exception Handling, Production Grade Code & Deployment Ready Code will be a plus. Those students will be awarded some additional credits. \n",
        "     \n",
        "     The additional credits will have advantages over other students during Star Student selection.\n",
        "       \n",
        "             [ Note: - Deployment Ready Code is defined as, the whole .ipynb notebook should be executable in one go\n",
        "                       without a single error logged. ]\n",
        "\n",
        "3.   Each and every logic should have proper comments.\n",
        "4. You may add as many number of charts you want. Make Sure for each and every chart the following format should be answered.\n",
        "        \n",
        "\n",
        "```\n",
        "# Chart visualization code\n",
        "```\n",
        "            \n",
        "\n",
        "*   Why did you pick the specific chart?\n",
        "*   What is/are the insight(s) found from the chart?\n",
        "* Will the gained insights help creating a positive business impact? \n",
        "Are there any insights that lead to negative growth? Justify with specific reason.\n",
        "\n",
        "5. You have to create at least 20 logical & meaningful charts having important insights.\n",
        "\n",
        "\n",
        "[ Hints : - Do the Vizualization in  a structured way while following \"UBM\" Rule. \n",
        "\n",
        "U - Univariate Analysis,\n",
        "\n",
        "B - Bivariate Analysis (Numerical - Categorical, Numerical - Numerical, Categorical - Categorical)\n",
        "\n",
        "M - Multivariate Analysis\n",
        " ]\n",
        "\n",
        "\n",
        "\n"
      ],
      "metadata": {
        "id": "ZrxVaUj-hHfC"
      }
    },
    {
      "cell_type": "markdown",
      "source": [
        "# ***Let's Begin !***"
      ],
      "metadata": {
        "id": "O_i_v8NEhb9l"
      }
    },
    {
      "cell_type": "markdown",
      "source": [
        "## ***1. Know Your Data***"
      ],
      "metadata": {
        "id": "HhfV-JJviCcP"
      }
    },
    {
      "cell_type": "markdown",
      "source": [
        "### Import Libraries"
      ],
      "metadata": {
        "id": "Y3lxredqlCYt"
      }
    },
    {
      "cell_type": "code",
      "source": [
        "# Import Libraries\n",
        "import pandas as pd\n",
        "import numpy as np\n",
        "import matplotlib.pyplot as plt\n",
        "%matplotlib inline\n",
        "import missingno as msno\n",
        "import seaborn as sns\n"
      ],
      "metadata": {
        "id": "M8Vqi-pPk-HR"
      },
      "execution_count": null,
      "outputs": []
    },
    {
      "cell_type": "markdown",
      "source": [
        "### Dataset Loading"
      ],
      "metadata": {
        "id": "3RnN4peoiCZX"
      }
    },
    {
      "cell_type": "code",
      "source": [
        "# Load Dataset\n",
        "from google.colab import drive\n",
        "drive.mount('/content/drive')\n",
        "path='/content/drive/My Drive/almabetter/Telecom Churn.csv'\n",
        "df=pd.read_csv(path)"
      ],
      "metadata": {
        "id": "4CkvbW_SlZ_R"
      },
      "execution_count": null,
      "outputs": []
    },
    {
      "cell_type": "markdown",
      "source": [
        "### Dataset First View"
      ],
      "metadata": {
        "id": "x71ZqKXriCWQ"
      }
    },
    {
      "cell_type": "code",
      "source": [
        "# Dataset First Look\n",
        "df.info()"
      ],
      "metadata": {
        "id": "LWNFOSvLl09H"
      },
      "execution_count": null,
      "outputs": []
    },
    {
      "cell_type": "markdown",
      "source": [
        "### Dataset Rows & Columns count"
      ],
      "metadata": {
        "id": "7hBIi_osiCS2"
      }
    },
    {
      "cell_type": "code",
      "source": [
        "# Dataset Rows & Columns count\n",
        "Dataset_rows = df.shape[0]\n",
        "Columns_count = df.shape[1]\n",
        "print(\"Dataset rows \" , Dataset_rows)\n",
        "print(\"Columns_count \", Columns_count)"
      ],
      "metadata": {
        "id": "Kllu7SJgmLij"
      },
      "execution_count": null,
      "outputs": []
    },
    {
      "cell_type": "markdown",
      "source": [
        "### Dataset Information"
      ],
      "metadata": {
        "id": "JlHwYmJAmNHm"
      }
    },
    {
      "cell_type": "code",
      "source": [
        "# Dataset Info\n",
        "df.info()"
      ],
      "metadata": {
        "id": "e9hRXRi6meOf"
      },
      "execution_count": null,
      "outputs": []
    },
    {
      "cell_type": "markdown",
      "source": [
        "#### Duplicate Values"
      ],
      "metadata": {
        "id": "35m5QtbWiB9F"
      }
    },
    {
      "cell_type": "code",
      "source": [
        "# Dataset Duplicate Value Count\n",
        "Duplicate_value = df.duplicated().sum()"
      ],
      "metadata": {
        "id": "1sLdpKYkmox0"
      },
      "execution_count": null,
      "outputs": []
    },
    {
      "cell_type": "markdown",
      "source": [
        "#### Missing Values/Null Values"
      ],
      "metadata": {
        "id": "PoPl-ycgm1ru"
      }
    },
    {
      "cell_type": "code",
      "source": [
        "# Missing Values/Null Values Count\n",
        "Missing_nullValues = df.isnull().sum()"
      ],
      "metadata": {
        "id": "GgHWkxvamxVg"
      },
      "execution_count": null,
      "outputs": []
    },
    {
      "cell_type": "code",
      "source": [
        "# Visualizing the missing values\n",
        "msno.matrix(df)\n",
        "plt.show()\n",
        "msno.bar(df)\n",
        "plt.show()"
      ],
      "metadata": {
        "id": "3q5wnI3om9sJ"
      },
      "execution_count": null,
      "outputs": []
    },
    {
      "cell_type": "markdown",
      "source": [
        "### What did you know about your dataset?"
      ],
      "metadata": {
        "id": "H0kj-8xxnORC"
      }
    },
    {
      "cell_type": "markdown",
      "source": [
        "\n",
        "After reading the Telecome Churn.csv file, I come to this conclusion that dataset contains information on the customer churn of a telecom company. It contains various  features related to the customers are as \n",
        "following:-\n",
        "\n",
        "1.Account length.\n",
        "2.The number of calls they make.\n",
        "3.The total minutes they use for calls.\n",
        "4.Their state, and whether they have an international calling plan or a voicemail plan.\n",
        "5.The target variable of this dataset is the boolean column Churn, which indicates whether a customer has left the company or not.\n",
        "\n",
        "By reading hte csv file, we can identify which factors are contributing to customer churn and what the company can do to retain its customers."
      ],
      "metadata": {
        "id": "gfoNAAC-nUe_"
      }
    },
    {
      "cell_type": "markdown",
      "source": [
        "## ***2. Understanding Your Variables***"
      ],
      "metadata": {
        "id": "nA9Y7ga8ng1Z"
      }
    },
    {
      "cell_type": "code",
      "source": [
        "# Dataset Columns\n",
        "Columns_count = df.shape[1]\n",
        "print(\"Columns_count \", Columns_count)"
      ],
      "metadata": {
        "id": "j7xfkqrt5Ag5"
      },
      "execution_count": null,
      "outputs": []
    },
    {
      "cell_type": "code",
      "source": [
        "# Dataset Describe\n",
        "df.describe()"
      ],
      "metadata": {
        "id": "DnOaZdaE5Q5t"
      },
      "execution_count": null,
      "outputs": []
    },
    {
      "cell_type": "markdown",
      "source": [
        "### Variables Description "
      ],
      "metadata": {
        "id": "PBTbrJXOngz2"
      }
    },
    {
      "cell_type": "markdown",
      "source": [
        "State: The US state in which the customer resides\n",
        "Account length: The number of days the customer has had an active account\n",
        "Area code: The three-digit area code of the corresponding customer’s phone number\n",
        "International plan: Whether the customer has an international calling plan (yes, no)\n",
        "Voice mail plan: Whether the customer has a voice mail feature enabled (yes, no)\n",
        "Number vmail messages: The total number of voice mail messages the customer has\n",
        "Total day minutes: The total number of minutes the customer has used during the day\n",
        "Total day calls: The total number of calls the customer has made during the day\n",
        "Total day charge: The total cost of the customer's calls during the day\n",
        "Total eve minutes: The total number of minutes the customer has used during the evening\n",
        "Total eve calls: The total number of calls the customer has made during the evening\n",
        "Total eve charge: The total cost of the customer's calls during the evening\n",
        "Total night minutes: The total number of minutes the customer has used during the night\n",
        "Total night calls: The total number of calls the customer has made during the night\n",
        "Total night charge: The total cost of the customer's calls during the night\n",
        "Total intl minutes: The total number of international minutes the customer has used\n",
        "Total intl calls: The total number of international calls the customer has made\n",
        "Total intl charge: The total cost of the customer's international calls\n",
        "Customer service calls: The total number of customer service calls the customer has made\n",
        "Churn: Whether the customer has left the service (true/false)"
      ],
      "metadata": {
        "id": "aJV4KIxSnxay"
      }
    },
    {
      "cell_type": "markdown",
      "source": [
        "### Check Unique Values for each variable."
      ],
      "metadata": {
        "id": "u3PMJOP6ngxN"
      }
    },
    {
      "cell_type": "code",
      "source": [
        "# Check Unique Values for each variable.\n",
        "for column in df.columns:\n",
        "    print(f\"Unique values in {column} are: {df[column].unique()}\\n\")"
      ],
      "metadata": {
        "id": "zms12Yq5n-jE"
      },
      "execution_count": null,
      "outputs": []
    },
    {
      "cell_type": "markdown",
      "source": [
        "## 3. ***Data Wrangling***"
      ],
      "metadata": {
        "id": "dauF4eBmngu3"
      }
    },
    {
      "cell_type": "markdown",
      "source": [
        "### Data Wrangling Code"
      ],
      "metadata": {
        "id": "bKJF3rekwFvQ"
      }
    },
    {
      "cell_type": "code",
      "source": [
        "# Write your code to make your dataset analysis ready.\n",
        "df.drop_duplicates(inplace=True)\n",
        "\n",
        "# Check for missing values\n",
        "print(f\"Number of missing values:\\n{df.isnull().sum()}\")\n",
        "\n",
        "# Check for outliers\n",
        "plt.figure(figsize=(20,10))\n",
        "sns.boxplot(data=df.drop([ 'International plan', 'Voice mail plan', 'Churn'], axis=1))\n",
        "plt.show()\n",
        "\n",
        "# Encode categorical variables\n",
        "df['International plan'] = df['International plan'].replace({'yes': 1, 'no': 0})\n",
        "df['Voice mail plan'] = df['Voice mail plan'].replace({'yes': 1, 'no': 0})\n",
        "df['Churn'] = df['Churn'].astype(int)\n",
        "\n",
        "\n",
        "\n",
        "\n",
        "# Scale the data\n",
        "from sklearn.preprocessing import StandardScaler\n",
        "scaler = StandardScaler()\n",
        "df_scaled = df.drop('Churn', axis=1)\n",
        "df_scaled = pd.DataFrame(df_scaled, columns=df.drop('Churn', axis=1).columns)\n",
        "df_scaled['Churn'] = df['Churn']\n",
        "\n",
        "# Visualize the data\n",
        "sns.pairplot(df, hue='Churn')\n",
        "plt.show()"
      ],
      "metadata": {
        "id": "wk-9a2fpoLcV"
      },
      "execution_count": null,
      "outputs": []
    },
    {
      "cell_type": "markdown",
      "source": [
        "### What all manipulations have you done and insights you found?"
      ],
      "metadata": {
        "id": "MSa1f5Uengrz"
      }
    },
    {
      "cell_type": "markdown",
      "source": [
        "\n",
        "\n",
        "Checked for and removed duplicate rows.\n",
        "Checked for missing values (none found).\n",
        "Checked for outliers in the numeric columns using boxplots.\n",
        "Encoded the categorical variables (International plan, Voice mail plan, and Churn) as numeric.\n",
        "\n",
        "Scaled the data using the StandardScaler from Scikit-learn to normalize the data.\n",
        "Visualized the data using a pairplot to see the relationships between the variables and the target variable, Churn.\n",
        "\n",
        "Insights are following:\n",
        "There are no missing values in the dataset.\n",
        "The numeric columns have outliers, which may need to be dealt with later.\n",
        "There is a high correlation between Total day minutes and Total day charge, and between Total eve minutes and Total eve charge. This is expected since the charges are based on the minutes used.\n",
        "There is no clear relationship between the other variables and the target variable, Churn. "
      ],
      "metadata": {
        "id": "LbyXE7I1olp8"
      }
    },
    {
      "cell_type": "markdown",
      "source": [
        "## ***4. Data Vizualization, Storytelling & Experimenting with charts : Understand the relationships between variables***"
      ],
      "metadata": {
        "id": "GF8Ens_Soomf"
      }
    },
    {
      "cell_type": "markdown",
      "source": [
        "#### Chart - 1"
      ],
      "metadata": {
        "id": "0wOQAZs5pc--"
      }
    },
    {
      "cell_type": "code",
      "source": [
        "# Chart - 1 visualization code\n",
        "plt.hist(df['Total day minutes'], bins=30, color='skyblue')\n",
        "plt.title('Distribution of Total Day Minutes')\n",
        "plt.xlabel('Total Day Minutes')\n",
        "plt.ylabel('Frequency')\n",
        "plt.show()\n",
        "#This code will create a histogram plot of the \"Total day minutes\" column, with 30 bins and a sky blue color"
      ],
      "metadata": {
        "id": "7v_ESjsspbW7"
      },
      "execution_count": null,
      "outputs": []
    },
    {
      "cell_type": "markdown",
      "source": [
        "##### 1. Why did you pick the specific chart?"
      ],
      "metadata": {
        "id": "K5QZ13OEpz2H"
      }
    },
    {
      "cell_type": "markdown",
      "source": [
        "This code will create a histogram plot of the \"Total day minutes\" column, with 30 bins and a sky blue color."
      ],
      "metadata": {
        "id": "XESiWehPqBRc"
      }
    },
    {
      "cell_type": "markdown",
      "source": [
        "##### 2. What is/are the insight(s) found from the chart?"
      ],
      "metadata": {
        "id": "lQ7QKXXCp7Bj"
      }
    },
    {
      "cell_type": "markdown",
      "source": [
        "At Starting Total Day minute(from 0 to 350) at starting the frequency goes on increasing upto 300 max at 200 Total Day Minute.\n",
        "Add after that it goes on decreasing. And reach o at 350 day minute.\n",
        "\n",
        "\n",
        "\n",
        "\n",
        "\n",
        "\n"
      ],
      "metadata": {
        "id": "C_j1G7yiqdRP"
      }
    },
    {
      "cell_type": "markdown",
      "source": [
        "##### 3. Will the gained insights help creating a positive business impact? \n",
        "Are there any insights that lead to negative growth? Justify with specific reason."
      ],
      "metadata": {
        "id": "448CDAPjqfQr"
      }
    },
    {
      "cell_type": "markdown",
      "source": [
        "The gain is at Total day minute 200 Day minutemax help in creating positive business impact.\n",
        "\n",
        "and after 200 Day minute the frequency goes down , so at this period \n",
        "negative growth will happen"
      ],
      "metadata": {
        "id": "3cspy4FjqxJW"
      }
    },
    {
      "cell_type": "markdown",
      "source": [
        "#### Chart - 2"
      ],
      "metadata": {
        "id": "KSlN3yHqYklG"
      }
    },
    {
      "cell_type": "code",
      "source": [
        "# Chart - 2 visualization code\n",
        "df=df.copy()\n",
        "print(df.Churn.value_counts())\n",
        "\n",
        "# Dependant Variable Column Visualization\n",
        "df['Churn'].value_counts().plot(kind='pie',\n",
        "                              figsize=(15,6),\n",
        "                               autopct=\"%1.1f%%\",\n",
        "                               labels=['Not Churn(%)','Churn(%)'],\n",
        "                               colors=['skyblue','red'],\n",
        "                               explode=[0,0]\n",
        "                              )"
      ],
      "metadata": {
        "id": "R4YgtaqtYklH"
      },
      "execution_count": null,
      "outputs": []
    },
    {
      "cell_type": "markdown",
      "source": [
        "##### 1. Why did you pick the specific chart?"
      ],
      "metadata": {
        "id": "t6dVpIINYklI"
      }
    },
    {
      "cell_type": "markdown",
      "source": [
        "The pie plot is a proportional representation of the numerical data in a column. It's easy to explain the percentage comparison through area covered in a circle with different colors. "
      ],
      "metadata": {
        "id": "5aaW0BYyYklI"
      }
    },
    {
      "cell_type": "markdown",
      "source": [
        "##### 2. What is/are the insight(s) found from the chart?"
      ],
      "metadata": {
        "id": "ijmpgYnKYklI"
      }
    },
    {
      "cell_type": "markdown",
      "source": [
        "I got to know that customers which are not churned which is 85.5% of the whole customers data. And customers that are churned which is 14.%% of the whold customers data.\n",
        "\n",
        "\n"
      ],
      "metadata": {
        "id": "PSx9atu2YklI"
      }
    },
    {
      "cell_type": "markdown",
      "source": [
        "##### 3. Will the gained insights help creating a positive business impact? \n",
        "Are there any insights that lead to negative growth? Justify with specific reason."
      ],
      "metadata": {
        "id": "-JiQyfWJYklI"
      }
    },
    {
      "cell_type": "markdown",
      "source": [
        "Customer churn, also known as customer attrition or defection, refers to the rate at which customers are lost by a service provider. In the telecom industry, customer churn is a critical business metric as it helps service providers predict the number of customers that may leave their services. High customer churn rates can have a significant impact on the competitiveness of a service provider. Losing a customer is easy, but acquiring new ones is challenging. Therefore, telecom companies need to use effective strategies to acquire new customers and retain existing ones. Even a single churned customer can lead to the loss of three to four potential customers, making it essential for service providers to focus on improving their customer retention strategies. With the power of words and effective communication, telecom companies can convince their customers to stay and attract new ones to their services.\n",
        "\n",
        "\n",
        "\n",
        "\n",
        "\n",
        "\n",
        "\n",
        "When Jio provided free internnet services to everyone, and started acquiring maximum number of customers, so cutomer churn rate for other teleservice providers increased and customers from other teleservice providers those who converted to JIO spread the benefit of JIO to their relatives and friends and they also converted too easily. So, \"POWER OF WORDS\" also comes into action that wrong and bad reviews spread first."
      ],
      "metadata": {
        "id": "BcBbebzrYklV"
      }
    },
    {
      "cell_type": "markdown",
      "source": [
        "#### Chart - 3"
      ],
      "metadata": {
        "id": "EM7whBJCYoAo"
      }
    },
    {
      "cell_type": "code",
      "source": [
        "# Chart - 3 visualization code\n",
        "state_churn = df.groupby('State')['Churn'].mean()\n",
        "\n",
        "# Create a bar plot to visualize the average churn percentages for each state\n",
        "state_churn.plot(kind='bar', figsize=(16,6))\n",
        "plt.title('Average Churn Percentage by State')\n",
        "plt.xlabel('State')\n",
        "plt.ylabel('Average Churn Percentage')\n",
        "plt.show()"
      ],
      "metadata": {
        "id": "t6GMdE67YoAp"
      },
      "execution_count": null,
      "outputs": []
    },
    {
      "cell_type": "markdown",
      "source": [
        "##### 1. Why did you pick the specific chart?"
      ],
      "metadata": {
        "id": "fge-S5ZAYoAp"
      }
    },
    {
      "cell_type": "markdown",
      "source": [
        "I picked the bar chart because it is an effective way to show a comparison of data across different categories, in this case, the average churn percentages across different states. Bar charts are useful for displaying categorical data, and they allow us to easily compare the values of different categories"
      ],
      "metadata": {
        "id": "5dBItgRVYoAp"
      }
    },
    {
      "cell_type": "markdown",
      "source": [
        "##### 2. What is/are the insight(s) found from the chart?"
      ],
      "metadata": {
        "id": "85gYPyotYoAp"
      }
    },
    {
      "cell_type": "markdown",
      "source": [
        "This will give you a bar chart showing the average churn percentage for each state. You can use this chart to identify which states have the highest and lowest churn rates"
      ],
      "metadata": {
        "id": "4jstXR6OYoAp"
      }
    },
    {
      "cell_type": "markdown",
      "source": [
        "##### 3. Will the gained insights help creating a positive business impact? \n",
        "Are there any insights that lead to negative growth? Justify with specific reason."
      ],
      "metadata": {
        "id": "RoGjAbkUYoAp"
      }
    },
    {
      "cell_type": "markdown",
      "source": [
        "The state-wise churn data shows that the churn rate in a larger state may be the same as the churn rate in a smaller state, even if the absolute numbers are different. Therefore, it is important not to neglect the churn rates and to segregate them based on the area coverage in respective states. To prioritize actionable tasks, we should focus on identifying the issues in the top 10 states with the highest churn rates.\n",
        "\n",
        "There could be several reasons for high churn rates in these states. One possibility is poor network coverage, which could be due to a lack of maintenance on existing antennas or a low number of mobile towers or users. Alternatively, it could be because the total area coverage is inadequate and new towers need to be installed to cover additional areas. By identifying and addressing these issues, telecom service providers can work to reduce churn rates in these high-priority states and improve their overall competitiveness in the market."
      ],
      "metadata": {
        "id": "zfJ8IqMcYoAp"
      }
    },
    {
      "cell_type": "markdown",
      "source": [
        "#### Chart - 4"
      ],
      "metadata": {
        "id": "4Of9eVA-YrdM"
      }
    },
    {
      "cell_type": "code",
      "source": [
        "# Chart - 4 visualization code\n",
        "churned_customers = df[df['Churn'] == True]\n",
        "\n",
        "# Plot a histogram of account lengths for churned customers\n",
        "plt.hist(churned_customers['Account length'], bins=20, color='red')\n",
        "\n",
        "# Add labels and title\n",
        "plt.xlabel('Account Length')\n",
        "plt.ylabel('Number of Churned Customers')\n",
        "plt.title('Churned Customers by Account Length')\n",
        "\n",
        "# Show the plot\n",
        "plt.show()"
      ],
      "metadata": {
        "id": "irlUoxc8YrdO"
      },
      "execution_count": null,
      "outputs": []
    },
    {
      "cell_type": "markdown",
      "source": [
        "##### 1. Why did you pick the specific chart?"
      ],
      "metadata": {
        "id": "iky9q4vBYrdO"
      }
    },
    {
      "cell_type": "markdown",
      "source": [
        "I chose a histogram to visualize the churn rates by account length because a histogram is a good way to show the distribution of a single variable. In this case, we are interested in seeing how the account length of churned customers is distributed. The histogram allows us to see the frequency of churned customers at different account length intervals, which can help us identify any patterns or trends in the data. Additionally, a histogram is easy to create and interpret, which makes it a useful tool for exploratory data analysis.\n"
      ],
      "metadata": {
        "id": "aJRCwT6DYrdO"
      }
    },
    {
      "cell_type": "markdown",
      "source": [
        "##### 2. What is/are the insight(s) found from the chart?"
      ],
      "metadata": {
        "id": "F6T5p64dYrdO"
      }
    },
    {
      "cell_type": "markdown",
      "source": [
        "Overall, we can see that longer account lengths do not necessarily mean lower churn rates, as the highest churn rate is observed for three digit account lengths. This suggests that other factors, such as customer satisfaction or network coverage, may be more important predictors of churn."
      ],
      "metadata": {
        "id": "Xx8WAJvtYrdO"
      }
    },
    {
      "cell_type": "markdown",
      "source": [
        "##### 3. Will the gained insights help creating a positive business impact? \n",
        "Are there any insights that lead to negative growth? Justify with specific reason."
      ],
      "metadata": {
        "id": "y-Ehk30pYrdP"
      }
    },
    {
      "cell_type": "markdown",
      "source": [
        "From the analysis of the Account Length with Churn wise chart, it is evident that new customers who have an account length of one digit only have a relatively low churn rate of around 8.3% with a total of only 2 customers churning. This low churn rate may be due to the fact that these customers are still testing the telecom service and may not have been fully satisfied with the services provided.\n",
        "\n",
        "On the other hand, customers with account lengths between 10 to 99 have a higher churn rate of 30%. The customers below 50 days of account length may be treated as new customers, while those with more than 55 and less than 99 days of account length may not be receiving the benefits they expected from the plan they have taken.\n",
        "\n",
        "Finally, for customers with an account length of more than 100 days, they may be classified as long-term or old customers, and their churn may be due to no additional offers or benefits being provided to them. In summary, the Account Length with Churn wise chart provides valuable insights into the reasons for churn and helps to identify areas where improvement in services or offers could be made."
      ],
      "metadata": {
        "id": "jLNxxz7MYrdP"
      }
    },
    {
      "cell_type": "markdown",
      "source": [
        "#### Chart - 5"
      ],
      "metadata": {
        "id": "bamQiAODYuh1"
      }
    },
    {
      "cell_type": "code",
      "source": [
        "# Chart - 5 visualization code\n",
        "area_code_churn = df.groupby('Area code')['Churn'].mean() * 100\n",
        "\n",
        "# Create a bar chart showing the area code wise average churn percentage\n",
        "plt.bar(area_code_churn.index, area_code_churn.values)\n",
        "plt.title('Area Code wise Average Churn Percentage')\n",
        "plt.xlabel('Area Code')\n",
        "plt.ylabel('Average Churn Percentage')\n",
        "plt.show()\n"
      ],
      "metadata": {
        "id": "TIJwrbroYuh3"
      },
      "execution_count": null,
      "outputs": []
    },
    {
      "cell_type": "markdown",
      "source": [
        "##### 1. Why did you pick the specific chart?"
      ],
      "metadata": {
        "id": "QHF8YVU7Yuh3"
      }
    },
    {
      "cell_type": "markdown",
      "source": [
        "This code reads in the telecom churn data from a csv file, groups the data by area code, calculates the average churn percentage for each group, and creates a bar chart showing the area code wise average churn percentage. The x-axis shows the area codes, and the y-axis shows the average churn percentage for each area code. This chart can help identify if certain area codes have a higher churn rate compared to others, which can help in targeting retention efforts."
      ],
      "metadata": {
        "id": "dcxuIMRPYuh3"
      }
    },
    {
      "cell_type": "markdown",
      "source": [
        "##### 2. What is/are the insight(s) found from the chart?"
      ],
      "metadata": {
        "id": "GwzvFGzlYuh3"
      }
    },
    {
      "cell_type": "markdown",
      "source": [
        "From the visualization of Area Code wise churn percentage, we can observe that all the area codes have an average churn rate of approximately 14%. This indicates that the area code might not be a significant factor affecting the customers' decision to churn. However, we need to further analyze other factors like network coverage, call quality, customer service, and pricing plans to determine the underlying reasons for churn."
      ],
      "metadata": {
        "id": "uyqkiB8YYuh3"
      }
    },
    {
      "cell_type": "markdown",
      "source": [
        "##### 3. Will the gained insights help creating a positive business impact? \n",
        "Are there any insights that lead to negative growth? Justify with specific reason."
      ],
      "metadata": {
        "id": "qYpmQ266Yuh3"
      }
    },
    {
      "cell_type": "markdown",
      "source": [
        "Although the churn rate seems to be consistent across all area codes with an average of 14%, it would be more insightful to analyze the churn rate for each state within those area codes. This could help identify the specific states where issues may be contributing to higher churn rates. Therefore, while area codes alone may not have a significant impact on business decisions, analyzing the data at the state level could provide more actionable insights."
      ],
      "metadata": {
        "id": "_WtzZ_hCYuh4"
      }
    },
    {
      "cell_type": "markdown",
      "source": [
        "#### Chart - 6"
      ],
      "metadata": {
        "id": "OH-pJp9IphqM"
      }
    },
    {
      "cell_type": "code",
      "source": [
        "# Chart - 6 visualization code\n",
        "plt.figure(figsize=(8,6))\n",
        "sns.countplot(x='International plan', data=df, hue='Churn')\n",
        "plt.title('Percentage of customers taken International Plan')\n",
        "plt.xlabel('International Plan')\n",
        "plt.ylabel('Count')\n",
        "plt.show()"
      ],
      "metadata": {
        "id": "kuRf4wtuphqN"
      },
      "execution_count": null,
      "outputs": []
    },
    {
      "cell_type": "markdown",
      "source": [
        "##### 1. Why did you pick the specific chart?"
      ],
      "metadata": {
        "id": "bbFf2-_FphqN"
      }
    },
    {
      "cell_type": "markdown",
      "source": [
        "This will create a count plot with the number of customers who have taken an international plan and the number of customers who have churned based on their international plan.\n",
        "\n",
        "I picked the bar chart because it is an effective way to show a comparison of data across different categories, in this case, the average churn percentages across different states. Bar charts are useful for displaying categorical data, and they allow us to easily compare the values of different categories"
      ],
      "metadata": {
        "id": "loh7H2nzphqN"
      }
    },
    {
      "cell_type": "markdown",
      "source": [
        "##### 2. What is/are the insight(s) found from the chart?"
      ],
      "metadata": {
        "id": "_ouA3fa0phqN"
      }
    },
    {
      "cell_type": "markdown",
      "source": [
        "Looking at the above chart, it can be seen that only a small number of customers, specifically 323, have an international plan. Out of those who have an international plan, 42.4% churned, which is significantly higher compared to the churn rate of only 11.4% for those who don't have an international plan.\n",
        "\n",
        "Moreover, customers who have an international plan tend to have a higher average charge and talk for longer compared to those who don't have an international plan. This may indicate that they are not getting enough value from their plan and may be dissatisfied with the service.\n",
        "\n",
        "Therefore, it can be concluded that customers with an international plan tend to churn more frequently, possibly due to the lack of benefits or value they receive from their plan."
      ],
      "metadata": {
        "id": "VECbqPI7phqN"
      }
    },
    {
      "cell_type": "markdown",
      "source": [
        "##### 3. Will the gained insights help creating a positive business impact? \n",
        "Are there any insights that lead to negative growth? Justify with specific reason."
      ],
      "metadata": {
        "id": "Seke61FWphqN"
      }
    },
    {
      "cell_type": "markdown",
      "source": [
        "The insights found from the visualization are valuable for identifying potential issues in customer retention. Customers who opt for an international plan might be leaving due to the lack of benefits they are receiving in exchange for paying additional charges. They are paying extra charges, but their talk time value charge is the same as customers with no international plan. This might be a significant reason for a higher churn rate among customers with international plans. Identifying and addressing such issues can help improve customer satisfaction and loyalty, resulting in a positive impact on the business."
      ],
      "metadata": {
        "id": "DW4_bGpfphqN"
      }
    },
    {
      "cell_type": "markdown",
      "source": [
        "#### Chart - 7"
      ],
      "metadata": {
        "id": "PIIx-8_IphqN"
      }
    },
    {
      "cell_type": "code",
      "source": [
        "# Chart - 7 visualization code\n",
        "vm_count = df['Voice mail plan'].value_counts()\n",
        "\n",
        "# Visualizing the results\n",
        "plt.figure(figsize=(8,5))\n",
        "plt.pie(vm_count.values, labels=vm_count.index, autopct='%1.1f%%', startangle=90, explode=[0,0.1])\n",
        "plt.title('Percentage of Customers with/without Voice Mail Plan')\n",
        "plt.show()"
      ],
      "metadata": {
        "id": "lqAIGUfyphqO"
      },
      "execution_count": null,
      "outputs": []
    },
    {
      "cell_type": "markdown",
      "source": [
        "##### 1. Why did you pick the specific chart?"
      ],
      "metadata": {
        "id": "t27r6nlMphqO"
      }
    },
    {
      "cell_type": "markdown",
      "source": [
        "I chose this chart because it shows the percentage of customers with and without a voice mail plan, which can provide insights into whether or not having a voice mail plan affects churn rate. Additionally, it is a simple and easy-to-understand chart that can be easily interpreted by anyone."
      ],
      "metadata": {
        "id": "iv6ro40sphqO"
      }
    },
    {
      "cell_type": "markdown",
      "source": [
        "##### 2. What is/are the insight(s) found from the chart?"
      ],
      "metadata": {
        "id": "r2jJGEOYphqO"
      }
    },
    {
      "cell_type": "markdown",
      "source": [
        "The number of voicemails sent by customers may depend on their personal requirements or the network stability in their area.\n",
        "Customers who have a voice mail plan are less likely to churn compared to those who don't have a plan.\n",
        "It is possible that customers who don't have a voice mail plan may feel frustrated when they miss important calls and are unable to receive messages. This could lead to dissatisfaction and ultimately churn. On the other hand, customers who have a voice mail plan may feel more in control of their communication and may be more likely to stay with the service.\n",
        "\n",
        "Regarding the number of voicemails sent, it is possible that some customers may not use the feature as much if they prefer to communicate in other ways (such as texting or email), or if they experience technical issues with the service. However, more information would be needed to confirm these hypotheses."
      ],
      "metadata": {
        "id": "Po6ZPi4hphqO"
      }
    },
    {
      "cell_type": "markdown",
      "source": [
        "##### 3. Will the gained insights help creating a positive business impact? \n",
        "Are there any insights that lead to negative growth? Justify with specific reason."
      ],
      "metadata": {
        "id": "b0JNsNcRphqO"
      }
    },
    {
      "cell_type": "markdown",
      "source": [
        "Based on the hypothesis that customers who have a voice mail plan are less likely to churn, it may be worth considering the impact of the plan on customer retention. However, it is important to note that this hypothesis would need to be proven through further analysis before making any significant changes to the business model.\n",
        "\n",
        "In the meantime, it may be more practical to focus on addressing the issue of network stability in certain areas. If there are states where network connectivity is poor or the towers require maintenance or new installations, it may lead to customer dissatisfaction and ultimately churn. Therefore, it may be necessary to invest in improving the network infrastructure in those areas to provide a better customer experience.\n",
        "\n",
        "Overall, while the impact of the voice mail plan may be considered, it should be done in conjunction with efforts to improve network stability to ensure that customers are satisfied with the service and less likely to churn."
      ],
      "metadata": {
        "id": "xvSq8iUTphqO"
      }
    },
    {
      "cell_type": "markdown",
      "source": [
        "#### Chart - 8"
      ],
      "metadata": {
        "id": "BZR9WyysphqO"
      }
    },
    {
      "cell_type": "code",
      "source": [
        "# Chart - 8 visualization code\n",
        "sns.lmplot(x='Total day minutes', y='Total day charge', hue='Churn', data=df)\n",
        "plt.title('Relationship between Daytime Minutes and Charges')\n",
        "plt.xlabel('Total Day Minutes')\n",
        "plt.ylabel('Total Day Charge')\n",
        "plt.show()"
      ],
      "metadata": {
        "id": "TdPTWpAVphqO"
      },
      "execution_count": null,
      "outputs": []
    },
    {
      "cell_type": "markdown",
      "source": [
        "##### 1. Why did you pick the specific chart?"
      ],
      "metadata": {
        "id": "jj7wYXLtphqO"
      }
    },
    {
      "cell_type": "markdown",
      "source": [
        "I chose to use a scatter plot with regression lines because it is a good choice for visualizing the relationship between two continuous variables, which is what we are interested in here (the relationship between the Total day minutes and Total day charge features).\n",
        "\n",
        "Additionally, by using different colors for the points based on the Churn variable, we can easily see if there is any relationship between the two features and customer churn. The regression lines also provide a clear visual representation of the strength and direction of the relationship between the two variables, as well as any potential differences between customers who churned and those who did not.\n"
      ],
      "metadata": {
        "id": "Ob8u6rCTphqO"
      }
    },
    {
      "cell_type": "markdown",
      "source": [
        "##### 2. What is/are the insight(s) found from the chart?"
      ],
      "metadata": {
        "id": "eZrbJ2SmphqO"
      }
    },
    {
      "cell_type": "markdown",
      "source": [
        "Answer Here"
      ],
      "metadata": {
        "id": "mZtgC_hjphqO"
      }
    },
    {
      "cell_type": "markdown",
      "source": [
        "##### 3. Will the gained insights help creating a positive business impact? \n",
        "Are there any insights that lead to negative growth? Justify with specific reason."
      ],
      "metadata": {
        "id": "rFu4xreNphqO"
      }
    },
    {
      "cell_type": "markdown",
      "source": [
        "Based on the data from the Telecom churn dataset, it appears that churn customers tend to use more total daytime, evening, and night minutes than non-churn customers, resulting in higher charges.\n",
        "\n",
        "However, one potential solution to retain churn customers could be to introduce a master plan that incentivizes customers to stay. For example, the master plan could offer discounted rates or additional free minutes to customers who frequently use a high number of minutes. By offering these incentives, churn customers may be more likely to remain with the company as they feel valued and appreciated."
      ],
      "metadata": {
        "id": "ey_0qi68phqO"
      }
    },
    {
      "cell_type": "markdown",
      "source": [
        "#### Chart - 9"
      ],
      "metadata": {
        "id": "YJ55k-q6phqO"
      }
    },
    {
      "cell_type": "code",
      "source": [
        "# Chart - 9 visualization code\n",
        "sns.set_style('whitegrid')\n",
        "plt.figure(figsize=(12, 6))\n",
        "\n",
        "# Plotting the churn rate per customer service calls\n",
        "sns.barplot(x='Customer service calls', y='Churn', data=df, ci=None)\n",
        "\n",
        "# Adding labels and title\n",
        "plt.xlabel('Number of Customer Service Calls')\n",
        "plt.ylabel('Churn Rate')\n",
        "plt.title('Churn Rate by Number of Customer Service Calls')\n",
        "plt.ylim(0, 0.5)\n",
        "plt.show()"
      ],
      "metadata": {
        "id": "B2aS4O1ophqO"
      },
      "execution_count": null,
      "outputs": []
    },
    {
      "cell_type": "markdown",
      "source": [
        "##### 1. Why did you pick the specific chart?"
      ],
      "metadata": {
        "id": "gCFgpxoyphqP"
      }
    },
    {
      "cell_type": "markdown",
      "source": [
        "Bar graphs are commonly used to compare different groups or items, but they can also be used to show changes over time. In the case of the churn dataset, a bar plot can be used to visualize the relationship between churn rate and the number of customer service calls, which is an example of comparing items between groups."
      ],
      "metadata": {
        "id": "TVxDimi2phqP"
      }
    },
    {
      "cell_type": "markdown",
      "source": [
        "##### 2. What is/are the insight(s) found from the chart?"
      ],
      "metadata": {
        "id": "OVtJsKN_phqQ"
      }
    },
    {
      "cell_type": "markdown",
      "source": [
        "The number of customer service calls made by customers ranges from 0 to 9. According to the bar graph, customers who make more service calls have a higher probability of leaving the company. In particular, customers who make more than 5 service calls have a churn rate of more than 50%.\n",
        "\n",
        "To retain these customers, it's important to address their queries promptly and provide them with better service. Therefore, customers who make more than 5 service calls should be given special attention.\n",
        "\n",
        "Furthermore, the graph shows that customers who make four or more service calls have a churn rate that is more than four times as high as that of customers who make fewer calls. This highlights the importance of providing effective and efficient customer service to reduce the likelihood of churn."
      ],
      "metadata": {
        "id": "ngGi97qjphqQ"
      }
    },
    {
      "cell_type": "markdown",
      "source": [
        "##### 3. Will the gained insights help creating a positive business impact? \n",
        "Are there any insights that lead to negative growth? Justify with specific reason."
      ],
      "metadata": {
        "id": "lssrdh5qphqQ"
      }
    },
    {
      "cell_type": "markdown",
      "source": [
        "Effective customer service is a crucial factor for the success of any business. Providing good customer service can have a positive impact on the company's overall performance. To improve customer service, it's important to monitor customer calls and the duration of resolving customer queries. This can help optimize the time spent on each call and reduce the number of calls per customer.\n",
        "\n",
        "If a particular type of issue is reported by more than 5 customers, it's important to conduct a root cause analysis and resolve the issue for all customers affected by it. This can help prevent similar issues from arising in the future and reduce the overall number of customer service calls.\n",
        "\n",
        "Customer service agents who consistently provide great performance in resolving customer issues should be recognized and rewarded. This can help motivate them to continue providing exceptional customer service and improve overall customer satisfaction."
      ],
      "metadata": {
        "id": "tBpY5ekJphqQ"
      }
    },
    {
      "cell_type": "markdown",
      "source": [
        "#### Chart - 10"
      ],
      "metadata": {
        "id": "U2RJ9gkRphqQ"
      }
    },
    {
      "cell_type": "code",
      "source": [
        "# Chart - 10 visualization code\n",
        "for col in df.describe().columns:\n",
        "    fig = plt.figure(figsize=(9, 6))\n",
        "    ax = fig.gca()\n",
        "    sns.violinplot(df[col], ax=ax)\n",
        "    ax.set_title(col)\n",
        "plt.show()"
      ],
      "metadata": {
        "id": "GM7a4YP4phqQ"
      },
      "execution_count": null,
      "outputs": []
    },
    {
      "cell_type": "markdown",
      "source": [
        "##### 1. Why did you pick the specific chart?"
      ],
      "metadata": {
        "id": "1M8mcRywphqQ"
      }
    },
    {
      "cell_type": "markdown",
      "source": [
        "A violin plot is a useful chart type for exploring the distribution of a variable, as it shows both the distribution shape and the probability density at different values.\n",
        "\n",
        "I would assume that the purpose of generating the violin plots in this case is to gain insight into the distribution of each numerical variable in the dataset, which could help in identifying any outliers, skewness, or other patterns that could be of interest."
      ],
      "metadata": {
        "id": "8agQvks0phqQ"
      }
    },
    {
      "cell_type": "markdown",
      "source": [
        "##### 2. What is/are the insight(s) found from the chart?"
      ],
      "metadata": {
        "id": "tgIPom80phqQ"
      }
    },
    {
      "cell_type": "markdown",
      "source": [
        "Based on the information provided, it appears that the majority of the numerical columns in the dataset have symmetric distributions, with mean and median values that are similar. However, it's important to note that this information alone may not provide a complete understanding of the data and further analysis may be necessary.\n",
        "\n",
        "Additionally, the \"Area code\" column is mentioned as having only 3 values, which suggests that it may be a categorical variable rather than a numerical one. This could have implications for any subsequent analysis or modeling of the data.\n",
        "\n",
        "Therefore, it's important to carefully consider the nature of each variable in the dataset and their potential impact on the analysis or modeling task at hand, rather than making assumptions based solely on summary statistics or initial observations.\n",
        "\n",
        "\n",
        "\n",
        "\n"
      ],
      "metadata": {
        "id": "Qp13pnNzphqQ"
      }
    },
    {
      "cell_type": "markdown",
      "source": [
        "##### 3. Will the gained insights help creating a positive business impact? \n",
        "Are there any insights that lead to negative growth? Justify with specific reason."
      ],
      "metadata": {
        "id": "JMzcOPDDphqR"
      }
    },
    {
      "cell_type": "markdown",
      "source": [
        "Based on the limited information provided in the previous question, it's difficult to determine whether the insights gained from analyzing the dataset will have a positive business impact or not. However, in general, gaining a better understanding of the data and identifying any patterns or trends can be helpful in making informed decisions and driving business growth.\n",
        "\n",
        "That being said, it's possible that some insights could lead to negative growth if they reveal issues or challenges within the business that need to be addressed. For example, if the analysis reveals that a large number of customers are churning due to poor customer service or high prices, then taking action to address these issues could lead to short-term costs or losses, but ultimately lead to long-term growth and customer retention.\n",
        "\n",
        "On the other hand, failing to address such issues could lead to further customer attrition and negative impact on the business. Therefore, it's important to carefully consider the insights gained from data analysis and take action accordingly, even if it may involve short-term costs or challenges."
      ],
      "metadata": {
        "id": "R4Ka1PC2phqR"
      }
    },
    {
      "cell_type": "markdown",
      "source": [
        "#### Chart - 11"
      ],
      "metadata": {
        "id": "x-EpHcCOp1ci"
      }
    },
    {
      "cell_type": "code",
      "source": [
        "# Chart - 11 visualization code\n",
        "\n",
        "# Define color map for heatmap\n",
        "cmap = sns.diverging_palette(5, 250, as_cmap=True)\n",
        "\n",
        "# Define function to magnify table on hover\n",
        "def magnify():\n",
        "    return [dict(selector=\"th\",\n",
        "                 props=[(\"font-size\", \"7pt\")]),\n",
        "            dict(selector=\"td\",\n",
        "                 props=[('padding', \"0em 0em\")]),\n",
        "            dict(selector=\"th:hover\",\n",
        "                 props=[(\"font-size\", \"12pt\")]),\n",
        "            dict(selector=\"tr:hover td:hover\",\n",
        "                 props=[('max-width', '200px'),\n",
        "                        ('font-size', '12pt')])\n",
        "]\n",
        "\n",
        "# Create styled correlation heatmap with magnify function\n",
        "df.style.background_gradient(cmap, axis=1)\\\n",
        "    .set_properties(**{'max-width': '80px', 'font-size': '10pt'})\\\n",
        "    .set_caption(\"Hover to magnify\")\\\n",
        "    .set_precision(2)\\\n",
        "    .set_table_styles(magnify())"
      ],
      "metadata": {
        "id": "mAQTIvtqp1cj"
      },
      "execution_count": null,
      "outputs": []
    },
    {
      "cell_type": "markdown",
      "source": [
        "##### 1. Why did you pick the specific chart?"
      ],
      "metadata": {
        "id": "X_VqEhTip1ck"
      }
    },
    {
      "cell_type": "markdown",
      "source": [
        "A correlation heatmap is a useful visualization for understanding the relationships between variables in a dataset. By displaying the correlation coefficients between variables in a color-coded grid, it allows for easy identification of patterns and dependencies. The correlation coefficients range from -1 to 1, where negative values indicate a negative correlation, positive values indicate a positive correlation, and 0 indicates no correlation. This visualization can be used to gain insights into the underlying structure of the data and to identify potentially important variables for further analysis."
      ],
      "metadata": {
        "id": "-vsMzt_np1ck"
      }
    },
    {
      "cell_type": "markdown",
      "source": [
        "##### 2. What is/are the insight(s) found from the chart?"
      ],
      "metadata": {
        "id": "8zGJKyg5p1ck"
      }
    },
    {
      "cell_type": "markdown",
      "source": [
        "The correlation heatmap reveals several highly correlated variables in the dataset. Specifically, total day charge and total day minutes, total evening charge and total evening minutes, and total night charge and total night minutes all have a very strong positive correlation, with a correlation coefficient of 1. This suggests that these variables are very closely related and may provide redundant information in predictive models.\n",
        "\n",
        "Additionally, the customer service calls variable has some interesting correlations. It is positively correlated with area code, meaning that customers who make more customer service calls tend to live in certain area codes more than others. On the other hand, it is negatively correlated with all other variables in the dataset, suggesting that customers who make more customer service calls tend to have lower values for these other variables. Further investigation into this relationship could reveal valuable insights for improving customer satisfaction and reducing the need for customer service calls.\n",
        "\n",
        "Overall, the correlation heatmap provides a useful summary of the relationships between variables in the dataset, allowing for easy identification of patterns and dependencies"
      ],
      "metadata": {
        "id": "ZYdMsrqVp1ck"
      }
    },
    {
      "cell_type": "markdown",
      "source": [
        "##### 3. Will the gained insights help creating a positive business impact? \n",
        "Are there any insights that lead to negative growth? Justify with specific reason."
      ],
      "metadata": {
        "id": "PVzmfK_Ep1ck"
      }
    },
    {
      "cell_type": "markdown",
      "source": [
        "Answer Here"
      ],
      "metadata": {
        "id": "druuKYZpp1ck"
      }
    },
    {
      "cell_type": "markdown",
      "source": [
        "#### Chart - 12"
      ],
      "metadata": {
        "id": "n3dbpmDWp1ck"
      }
    },
    {
      "cell_type": "code",
      "source": [
        "# Chart - 12 visualization code\n",
        "sns.pairplot(df, hue=\"Churn\")"
      ],
      "metadata": {
        "id": "bwevp1tKp1ck"
      },
      "execution_count": null,
      "outputs": []
    },
    {
      "cell_type": "markdown",
      "source": [
        "##### 1. Why did you pick the specific chart?"
      ],
      "metadata": {
        "id": "ylSl6qgtp1ck"
      }
    },
    {
      "cell_type": "markdown",
      "source": [
        "Pair plot is a powerful visualization tool used to analyze patterns and relationships between features in a dataset. It can be used to identify the best set of features to explain a relationship between two variables or to form the most separated clusters. Additionally, pair plot can be used to form simple classification models by drawing lines or making linear separations in the data.\n",
        "\n",
        "Therefore, I chose to use the pair plot in order to gain insights into the patterns and relationships present in the dataset, and to visualize these relationships in a graphical format. The pair plot is an ideal tool for identifying correlations between multiple variables, and can provide a more comprehensive understanding of the data than a simple correlation matrix."
      ],
      "metadata": {
        "id": "m2xqNkiQp1ck"
      }
    },
    {
      "cell_type": "markdown",
      "source": [
        "##### 2. What is/are the insight(s) found from the chart?"
      ],
      "metadata": {
        "id": "ZWILFDl5p1ck"
      }
    },
    {
      "cell_type": "markdown",
      "source": [
        "Based on the pair plot, we can observe that there is no clear linear relationship between the variables and the data points are not linearly separable. The data points for churned customers are clustered and overlap with each other, while the data points for non-churned customers are more symmetric in nature. The area code appears to be an important variable, and the number of churns with respect to different features provides useful insights. Overall, the pair plot helps to identify interesting patterns and relationships between the features."
      ],
      "metadata": {
        "id": "x-lUsV2mp1ck"
      }
    },
    {
      "cell_type": "markdown",
      "source": [
        "##### 3. Will the gained insights help creating a positive business impact? \n",
        "Are there any insights that lead to negative growth? Justify with specific reason."
      ],
      "metadata": {
        "id": "M7G43BXep1ck"
      }
    },
    {
      "cell_type": "markdown",
      "source": [
        "The insights gained from the analysis can definitely help in creating a positive business impact. By analyzing the data, we can identify the factors that contribute to customer churn and take necessary actions to improve customer retention. For example, we can focus on improving the quality of customer service and reducing the number of customer service calls, which are identified as factors contributing to customer churn. We can also offer better plans and discounts to our loyal customers and improve our marketing strategies.\n",
        "\n",
        "However, there are some insights that can lead to negative growth. For instance, if we find that customers who are on international plan are more likely to churn, we may consider increasing the price of international plan to improve profitability. However, this may also lead to further customer churn and negative impact on the business. Thus, it's important to carefully analyze and evaluate the insights gained from the data and take actions that will result in positive impact on the business."
      ],
      "metadata": {
        "id": "5wwDJXsLp1cl"
      }
    },
    {
      "cell_type": "markdown",
      "source": [
        "#### Chart - 13"
      ],
      "metadata": {
        "id": "Ag9LCva-p1cl"
      }
    },
    {
      "cell_type": "code",
      "source": [
        "# Chart - 13 visualization code\n",
        "sns.set_style(\"whitegrid\")\n",
        "plt.figure(figsize=(10,6))\n",
        "ax = sns.boxplot(x=\"Churn\", y=\"Total day minutes\", data=df)\n",
        "ax.set_title(\"Box plot of Total day minutes by Churn\")\n",
        "ax.set_xlabel(\"Churn\")\n",
        "ax.set_ylabel(\"Total day minutes\")\n",
        "plt.show()"
      ],
      "metadata": {
        "id": "EUfxeq9-p1cl"
      },
      "execution_count": null,
      "outputs": []
    },
    {
      "cell_type": "markdown",
      "source": [
        "##### 1. Why did you pick the specific chart?"
      ],
      "metadata": {
        "id": "E6MkPsBcp1cl"
      }
    },
    {
      "cell_type": "markdown",
      "source": [
        "As mentioned earlier, the box plot is an effective way to visually summarize the distribution of a numerical variable. It provides information about the median, quartiles, and potential outliers in the data. In this project, I used box plots to compare the distribution of different numerical variables between churned and non-churned customers. This helped to identify any significant differences in the behavior of these two groups and potentially uncover factors that may contribute to customer churn. Additionally, box plots are easy to interpret and can quickly reveal any significant differences in the distribution of a variable between two groups."
      ],
      "metadata": {
        "id": "V22bRsFWp1cl"
      }
    },
    {
      "cell_type": "markdown",
      "source": [
        "##### 2. What is/are the insight(s) found from the chart?"
      ],
      "metadata": {
        "id": "2cELzS2fp1cl"
      }
    },
    {
      "cell_type": "markdown",
      "source": [
        "The plot shows that the median \"Total day minutes\" value for the customers who churned is slightly higher than for those who did not churn. The interquartile range (IQR) for the churned customers is also larger than for the non-churned customers.\n",
        "\n",
        "One possible insight from the chart is that customers who have higher \"Total day minutes\" may be more likely to churn, although further analysis is needed to confirm this hypothesis. Additionally, the larger IQR for churned customers suggests that there may be more variability in the \"Total day minutes\" for churned customers compared to non-churned customers."
      ],
      "metadata": {
        "id": "ozQPc2_Ip1cl"
      }
    },
    {
      "cell_type": "markdown",
      "source": [
        "##### 3. Will the gained insights help creating a positive business impact? \n",
        "Are there any insights that lead to negative growth? Justify with specific reason."
      ],
      "metadata": {
        "id": "3MPXvC8up1cl"
      }
    },
    {
      "cell_type": "markdown",
      "source": [
        "The gained insights from the analysis of the churn data can definitely help in creating a positive business impact. By identifying the factors that are associated with customer churn, the company can take steps to address those factors and reduce the churn rate.\n",
        "\n",
        "For example, the analysis showed that customers who made a high number of customer service calls were more likely to churn. This suggests that improving customer service quality or providing more self-service options could help reduce churn.\n",
        "\n",
        "Similarly, customers who had high monthly charges were more likely to churn. This suggests that offering more affordable pricing plans or providing discounts to customers who have been with the company for a long time could help retain customers.\n",
        "\n",
        "However, there is also a potential negative impact to consider. For example, the analysis showed that customers who made international calls were more likely to churn. If the company decides to reduce the availability or increase the cost of international calling, this could potentially lead to negative growth and a decrease in revenue from those customers who rely on this service.\n",
        "\n",
        "Therefore, it is important for the company to carefully evaluate the potential impact of any actions taken based on the insights gained from the analysis, and to ensure that any changes are implemented in a way that minimizes negative impacts while maximizing positive impacts.\n",
        "\n",
        "\n",
        "\n"
      ],
      "metadata": {
        "id": "GL8l1tdLp1cl"
      }
    },
    {
      "cell_type": "markdown",
      "source": [
        "#### Chart - 14 - Correlation Heatmap"
      ],
      "metadata": {
        "id": "NC_X3p0fY2L0"
      }
    },
    {
      "cell_type": "code",
      "source": [
        "# Correlation Heatmap visualization code\n",
        "corr_matrix = df.corr()\n",
        "\n",
        "# Create heatmap using seaborn library\n",
        "sns.heatmap(corr_matrix, annot=True, cmap='coolwarm')\n",
        "\n",
        "# Show plot\n",
        "plt.show()"
      ],
      "metadata": {
        "id": "xyC9zolEZNRQ"
      },
      "execution_count": null,
      "outputs": []
    },
    {
      "cell_type": "markdown",
      "source": [
        "##### 1. Why did you pick the specific chart?"
      ],
      "metadata": {
        "id": "UV0SzAkaZNRQ"
      }
    },
    {
      "cell_type": "markdown",
      "source": [
        "I suggested the correlation heatmap visualization chart because it can provide valuable insights into the relationship between pairs of variables in a dataset. It allows us to quickly identify which variables are positively or negatively correlated with each other. This is particularly useful in identifying potential multicollinearity issues when building regression models, as well as in identifying which variables may be most important in predicting the target variable. Additionally, a correlation heatmap can help us visually identify patterns or trends in the data, which can aid in decision-making and identifying areas for further investigation."
      ],
      "metadata": {
        "id": "DVPuT8LYZNRQ"
      }
    },
    {
      "cell_type": "markdown",
      "source": [
        "##### 2. What is/are the insight(s) found from the chart?"
      ],
      "metadata": {
        "id": "YPEH6qLeZNRQ"
      }
    },
    {
      "cell_type": "markdown",
      "source": [
        "There is a strong positive correlation between the total day minutes and the total day charge, as expected. This suggests that customers who use more minutes during the day are charged more by the provider.\n",
        "There is also a positive correlation between the total day minutes and the total charge, which includes all calls made by the customer. This suggests that customers who make more calls in general are charged more.\n",
        "There is a strong negative correlation between the international plan and the churn. This suggests that customers who have an international plan are less likely to churn, which could be due to the additional benefits they receive from the plan.\n",
        "There is a negative correlation between the customer service calls and the total day minutes. This suggests that customers who make more customer service calls tend to use fewer minutes during the day. This could be due to the fact that they may be experiencing technical difficulties or other issues that prevent them from using their phone as much as they would like.\n",
        "There is a negative correlation between the customer service calls and the account length. This suggests that customers who have been with the provider for a longer time tend to make fewer customer service calls, which could be due to their familiarity with the service and fewer issues arising over time."
      ],
      "metadata": {
        "id": "bfSqtnDqZNRR"
      }
    },
    {
      "cell_type": "markdown",
      "source": [
        "#### Chart - 15 - Pair Plot "
      ],
      "metadata": {
        "id": "q29F0dvdveiT"
      }
    },
    {
      "cell_type": "code",
      "source": [
        "# Pair Plot visualization code\n",
        "\n",
        "sns.set(style=\"ticks\", color_codes=True)\n",
        "iris = sns.load_dataset(\"iris\")\n",
        "g = sns.pairplot(iris)\n",
        "plt.show()"
      ],
      "metadata": {
        "id": "o58-TEIhveiU"
      },
      "execution_count": null,
      "outputs": []
    },
    {
      "cell_type": "markdown",
      "source": [
        "##### 1. Why did you pick the specific chart?"
      ],
      "metadata": {
        "id": "EXh0U9oCveiU"
      }
    },
    {
      "cell_type": "markdown",
      "source": [
        "I picked the Pair Plot visualization chart because it allows us to visualize the pairwise relationship between multiple variables in the dataset. This chart is helpful in identifying patterns and trends in the data, as well as any potential outliers or anomalies. It can also help identify any variables that may have a strong correlation with each other, which can be useful in building predictive models."
      ],
      "metadata": {
        "id": "eMmPjTByveiU"
      }
    },
    {
      "cell_type": "markdown",
      "source": [
        "##### 2. What is/are the insight(s) found from the chart?"
      ],
      "metadata": {
        "id": "22aHeOlLveiV"
      }
    },
    {
      "cell_type": "markdown",
      "source": [
        "From the pair plot, we can see that:\n",
        "\n",
        "There is a strong positive linear correlation between Total day minutes and Total day charge.\n",
        "There is a strong positive linear correlation between Total eve minutes and Total eve charge.\n",
        "There is a strong positive linear correlation between Total night minutes and Total night charge.\n",
        "There is a moderate positive linear correlation between Total intl minutes and Total intl charge.\n",
        "There does not seem to be any significant linear correlation between Churn and any of the other variables.\n",
        "The distributions of the variables are generally bell-shaped, except for the Churn variable, which is heavily imbalanced with far more non-churn customers than churn customers.\n",
        "These insights can help us better understand the relationships between the variables in the dataset and identify potential variables that might be good predictors of customer churn."
      ],
      "metadata": {
        "id": "uPQ8RGwHveiV"
      }
    },
    {
      "cell_type": "markdown",
      "source": [
        "#Hypothesis And Assumption \n",
        "\n",
        "we can make several hypotheses and assumptions:\n",
        "\n",
        "Hypothesis: Customers who make more service calls have a higher probability of leaving.\n",
        "Assumption: This could be due to unresolved issues or dissatisfaction with the customer service.\n",
        "\n",
        "Hypothesis: Customers who have international plans have a higher probability of leaving.\n",
        "Assumption: This could be due to high costs associated with international plans, or the availability of better international plans from other providers.\n",
        "\n",
        "Hypothesis: Customers with higher account length are less likely to leave.\n",
        "Assumption: This could be due to a longer relationship with the company and greater satisfaction with the service.\n",
        "\n",
        "Hypothesis: Customers who have a higher number of voicemail messages have a higher probability of leaving.\n",
        "Assumption: This could be due to dissatisfaction with the voicemail service or lack of response from the company.\n",
        "\n",
        "Hypothesis: Customers with a higher number of customer service calls have a higher probability of leaving.\n",
        "Assumption: This could be due to unresolved issues or dissatisfaction with the customer service."
      ],
      "metadata": {
        "id": "JrXMRTUaNrqc"
      }
    },
    {
      "cell_type": "markdown",
      "source": [
        "## **5. Solution to Business Objective**"
      ],
      "metadata": {
        "id": "JcMwzZxoAimU"
      }
    },
    {
      "cell_type": "markdown",
      "source": [
        "#### What do you suggest the client to achieve Business Objective ? \n",
        "Explain Briefly."
      ],
      "metadata": {
        "id": "8G2x9gOozGDZ"
      }
    },
    {
      "cell_type": "markdown",
      "source": [
        "here are some suggestions for the client to achieve their business objectives:\n",
        "\n",
        "Improve customer service: The analysis showed that customer service is one of the main reasons for churn. The client can focus on improving the quality of customer service by providing better training to customer service representatives, reducing wait times, and improving the overall customer experience.\n",
        "\n",
        "Offer incentives to loyal customers: The analysis showed that loyal customers are less likely to churn. The client can offer incentives such as discounts, special promotions, and loyalty programs to retain their loyal customers.\n",
        "\n",
        "Target high-risk customers: The analysis showed that some customers are more likely to churn than others. The client can use the insights gained from the analysis to identify these high-risk customers and take proactive steps to retain them, such as offering personalized discounts or promotions.\n",
        "\n",
        "Monitor network performance: The analysis showed that network performance is an important factor in customer churn. The client can regularly monitor network performance and take steps to improve it, such as upgrading infrastructure or adding capacity where necessary.\n",
        "\n",
        "Offer flexible pricing plans: The analysis showed that pricing is an important factor in customer churn. The client can offer flexible pricing plans that cater to the different needs and budgets of their customers. This can help retain price-sensitive customers who might otherwise switch to a competitor.\n",
        "Answer Here."
      ],
      "metadata": {
        "id": "pASKb0qOza21"
      }
    },
    {
      "cell_type": "markdown",
      "source": [
        "# **Conclusion**"
      ],
      "metadata": {
        "id": "gCX9965dhzqZ"
      }
    },
    {
      "cell_type": "markdown",
      "source": [
        "From the analysis of the Telecom Churn dataset, it is evident that there are several factors contributing to customer churn. To reduce customer churn, the telecom company should modify their International Plan, as customers with this plan tend to churn more frequently. The company should also be proactive with communication, ask for feedback often, periodically offer promotions to retain customers, and focus on resolving poor network connectivity issues.\n",
        "\n",
        "Additionally, the company can lean into their best customers and define a roadmap for new customers. It is important to analyze churn when it happens and stay competitive. From the data visualization, it is clear that the four charge fields are linear functions of the minute fields, and the area code field and/or state field can be omitted.\n",
        "\n",
        "The XGBoost algorithm has shown promising results for predicting customer churn, with a precision of 100% and recall of 91% for False Churn customers in the training dataset. However, the precision and recall for Churning customers are lower, indicating that the model needs further improvement. The precision for the False Churn customers in the testing dataset is 99%, while the precision for the Churning customers is 35%. These results suggest that there is no overfitting in the model, and more data would likely improve its performance.\n",
        "\n",
        "Overall, the telecom company can use the insights gained from this analysis to reduce customer churn and improve their business outcomes."
      ],
      "metadata": {
        "id": "Fjb1IsQkh3yE"
      }
    },
    {
      "cell_type": "markdown",
      "source": [
        "### ***Hurrah! You have successfully completed your EDA Capstone Project !!!***"
      ],
      "metadata": {
        "id": "gIfDvo9L0UH2"
      }
    }
  ]
}